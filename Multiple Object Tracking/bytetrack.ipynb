{
 "cells": [
  {
   "cell_type": "code",
   "execution_count": 8,
   "metadata": {},
   "outputs": [],
   "source": [
    "import supervision as sv\n",
    "from ultralytics import YOLO\n",
    "from tqdm import tqdm\n",
    "import numpy as np"
   ]
  },
  {
   "cell_type": "code",
   "execution_count": 9,
   "metadata": {},
   "outputs": [],
   "source": [
    "def process_video(\n",
    "\tsource_weights_path: str, \n",
    "\tsource_video_path: str,\n",
    "\ttarget_video_path: str, \n",
    "\tconfidence_threshold: float = 0.3,\n",
    "\tiou_threshold: float = 0.7\n",
    ") -> None:\n",
    "\tmodel = YOLO(source_weights_path)       # Load YOLO model \n",
    "\tclasses = list(model.names.values())    # Class names \n",
    "\ttracker = sv.ByteTrack()                # Bytetracker instance \n",
    "\tbox_annotator = sv.BoxAnnotator()     # BondingBox annotator instance \n",
    "\tlabel_annotator = sv.LabelAnnotator()         # Label annotator instance \n",
    "\tframe_generator = sv.get_video_frames_generator(source_path=source_video_path) # for generating frames from video\n",
    "\tvideo_info = sv.VideoInfo.from_video_path(video_path=source_video_path)\n",
    "\n",
    "\twith sv.VideoSink(target_path=target_video_path, video_info=video_info) as sink:\n",
    "\t\tfor frame in tqdm(frame_generator, total= video_info.total_frames):\n",
    "\t\t\t# Getting result from model\n",
    "\t\t\tresults = model(frame, verbose=False, conf= confidence_threshold, iou = iou_threshold)[0] \n",
    "\t\t\tdetections = sv.Detections.from_ultralytics(results)    # Getting detections\n",
    "\t\t\t#Filtering classes for car and truck only instead of all COCO classes.\n",
    "\t\t\tdetections = detections[np.where((detections.class_id==2)|(detections.class_id==7))]\n",
    "\t\t\tdetections = tracker.update_with_detections(detections)  # Updating detection to Bytetracker\n",
    "\t\t\t# Annotating detection boxes\n",
    "\t\t\tannotated_frame = box_annotator.annotate(scene = frame.copy(), detections= detections)\n",
    "\n",
    "\t\t\t#Prepare labels\n",
    "\t\t\tlabels = []\n",
    "\t\t\tfor index in range(len(detections.class_id)):\n",
    "\t\t\t\t# creating labels as per required.\n",
    "\t\t\t\tlabels.append(\"#\" + str(detections.tracker_id[index]) + \" \" + classes[detections.class_id[index]] + \" \"+ str(round(detections.confidence[index],2)) )\n",
    "\t\t\t\n",
    "\t\t\t# Annotating labels\n",
    "\t\t\tannotated_label_frame = label_annotator.annotate(scene=annotated_frame, detections=detections, labels=labels)\n",
    "\t\t\tsink.write_frame(frame = annotated_label_frame)"
   ]
  },
  {
   "cell_type": "code",
   "execution_count": 10,
   "metadata": {},
   "outputs": [
    {
     "name": "stderr",
     "output_type": "stream",
     "text": [
      "100%|██████████| 307/307 [00:08<00:00, 35.25it/s]\n"
     ]
    }
   ],
   "source": [
    "process_video(\n",
    "\tsource_weights_path= 'yolov8m.pt',\n",
    "\tsource_video_path= 'input.mp4',\n",
    "\ttarget_video_path= 'test_pred.mp4',\n",
    "\tconfidence_threshold=0.1,\n",
    "\tiou_threshold=0.6\n",
    ")"
   ]
  }
 ],
 "metadata": {
  "kernelspec": {
   "display_name": ".venv",
   "language": "python",
   "name": "python3"
  },
  "language_info": {
   "codemirror_mode": {
    "name": "ipython",
    "version": 3
   },
   "file_extension": ".py",
   "mimetype": "text/x-python",
   "name": "python",
   "nbconvert_exporter": "python",
   "pygments_lexer": "ipython3",
   "version": "3.9.13"
  }
 },
 "nbformat": 4,
 "nbformat_minor": 2
}
