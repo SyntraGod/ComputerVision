{
 "cells": [
  {
   "cell_type": "markdown",
   "metadata": {},
   "source": [
    "## Import thư viện"
   ]
  },
  {
   "cell_type": "code",
   "execution_count": 1,
   "metadata": {},
   "outputs": [],
   "source": [
    "import os\n",
    "import numpy as np\n",
    "import matplotlib\n",
    "matplotlib.use('TkAgg')\n",
    "import matplotlib.pyplot as plt\n",
    "import matplotlib.patches as patches\n",
    "from skimage import io\n"
   ]
  },
  {
   "cell_type": "code",
   "execution_count": 2,
   "metadata": {},
   "outputs": [
    {
     "name": "stderr",
     "output_type": "stream",
     "text": [
      "Using cache found in C:\\Users\\ADMIN/.cache\\torch\\hub\\ultralytics_yolov5_master\n",
      "YOLOv5  2024-9-17 Python-3.11.9 torch-2.0.1+cu117 CUDA:0 (NVIDIA GeForce RTX 3050 6GB Laptop GPU, 6144MiB)\n",
      "\n",
      "Fusing layers... \n",
      "YOLOv5s summary: 213 layers, 7225885 parameters, 0 gradients\n",
      "Adding AutoShape... \n"
     ]
    }
   ],
   "source": [
    "import torch\n",
    "import torchvision\n",
    "import cv2\n",
    "\n",
    "# Load YOLOv5 model\n",
    "model = torch.hub.load('ultralytics/yolov5', 'yolov5s')"
   ]
  },
  {
   "cell_type": "code",
   "execution_count": 3,
   "metadata": {},
   "outputs": [],
   "source": [
    "import glob\n",
    "import time\n",
    "import argparse\n",
    "from filterpy.kalman import KalmanFilter\n",
    "\n",
    "# Set seed for random in numpy\n",
    "np.random.seed(0) "
   ]
  },
  {
   "cell_type": "markdown",
   "metadata": {},
   "source": [
    "## Assignment fuction"
   ]
  },
  {
   "cell_type": "code",
   "execution_count": 4,
   "metadata": {},
   "outputs": [],
   "source": [
    "def linear_assignment(cost_matrix):\n",
    "    from scipy.optimize import linear_sum_assignment\n",
    "    x, y = linear_sum_assignment(cost_matrix)\n",
    "    return np.array(list(zip(x,y)))"
   ]
  },
  {
   "cell_type": "markdown",
   "metadata": {},
   "source": [
    "### Test"
   ]
  },
  {
   "cell_type": "code",
   "execution_count": 6,
   "metadata": {},
   "outputs": [
    {
     "name": "stdout",
     "output_type": "stream",
     "text": [
      "[[0 0]\n",
      " [1 1]\n",
      " [2 2]]\n"
     ]
    }
   ],
   "source": [
    "# Test\n",
    "cost_matrix = [[1,2,3], [2,1,4], [3, 1, 1]]\n",
    "print(linear_assignment(cost_matrix))"
   ]
  },
  {
   "cell_type": "markdown",
   "metadata": {},
   "source": [
    "## Tính IOU"
   ]
  },
  {
   "cell_type": "code",
   "execution_count": 5,
   "metadata": {},
   "outputs": [],
   "source": [
    "def iou_batch(bb_test, bb_gt):\n",
    "    '''\n",
    "        Compute iou between 2 bboxes in form [x1,y1,x2,y2]\n",
    "    '''\n",
    "    bb_gt = np.expand_dims(bb_gt, 0) #add 1 dim before col 0\n",
    "    bb_test = np.expand_dims(bb_test, 1)\n",
    "    \n",
    "    # Tìm tọa đô giao nhau\n",
    "    xx1 = np.maximum(bb_test[..., 0], bb_gt[..., 0])\n",
    "    yy1 = np.maximum(bb_test[..., 1], bb_gt[..., 1])\n",
    "    xx2 = np.minimum(bb_test[..., 2], bb_gt[..., 2])\n",
    "    yy2 = np.minimum(bb_test[..., 3], bb_gt[..., 3])\n",
    "    \n",
    "    # Chiều cao, rộng giao nhau\n",
    "    w = np.maximum(0., xx2 - xx1)\n",
    "    h = np.maximum(0., yy2 - yy1)\n",
    "    \n",
    "    # Diện tích giao nhau\n",
    "    wh = w * h\n",
    "    o = wh / ((bb_test[..., 2] - bb_test[..., 0]) * (bb_test[..., 3] - bb_test[..., 1])\n",
    "    + (bb_gt[..., 2] - bb_gt[..., 0]) * (bb_gt[..., 3] - bb_gt[..., 1]) - wh)                                              \n",
    "    return(o)  "
   ]
  },
  {
   "cell_type": "markdown",
   "metadata": {},
   "source": [
    "### Test"
   ]
  },
  {
   "cell_type": "code",
   "execution_count": 8,
   "metadata": {},
   "outputs": [
    {
     "name": "stdout",
     "output_type": "stream",
     "text": [
      "[[       0.25        0.25]\n",
      " [          0        0.25]]\n"
     ]
    }
   ],
   "source": [
    "bb_test = np.array([\n",
    "    [0, 0, 2, 2],  \n",
    "    [1, 1, 3, 3]   \n",
    "])\n",
    "\n",
    "bb_gt = np.array([\n",
    "    [0, 0, 1, 1],  \n",
    "    [1, 1, 2, 2]  \n",
    "])\n",
    "\n",
    "print(iou_batch(bb_test, bb_gt))"
   ]
  },
  {
   "cell_type": "markdown",
   "metadata": {},
   "source": [
    "## Chuyển định dạng Bounding box"
   ]
  },
  {
   "cell_type": "code",
   "execution_count": 6,
   "metadata": {},
   "outputs": [],
   "source": [
    "def convert_bbox_to_z(bbox):\n",
    "  \"\"\"\n",
    "  Takes a bounding box in the form [x1,y1,x2,y2] and returns z in the form\n",
    "    [x,y,s,r] where x,y is the centre of the box and s is the scale/area and r is\n",
    "    the aspect ratio\n",
    "  \"\"\"\n",
    "  w = bbox[2] - bbox[0]\n",
    "  h = bbox[3] - bbox[1]\n",
    "  x = bbox[0] + w/2.\n",
    "  y = bbox[1] + h/2.\n",
    "  s = w * h    #scale is just area\n",
    "  r = w / float(h)\n",
    "  return np.array([x, y, s, r]).reshape((4, 1))"
   ]
  },
  {
   "cell_type": "markdown",
   "metadata": {},
   "source": [
    "### Test"
   ]
  },
  {
   "cell_type": "code",
   "execution_count": 10,
   "metadata": {},
   "outputs": [
    {
     "name": "stdout",
     "output_type": "stream",
     "text": [
      "[[        3.5]\n",
      " [          5]\n",
      " [         12]\n",
      " [       0.75]]\n"
     ]
    }
   ],
   "source": [
    "bbox_test = np.array([2, 3, 5, 7])\n",
    "print(convert_bbox_to_z(bbox_test))"
   ]
  },
  {
   "cell_type": "code",
   "execution_count": 7,
   "metadata": {},
   "outputs": [],
   "source": [
    "def convert_x_to_bbox(x,score=None):\n",
    "  \"\"\"\n",
    "  Takes a bounding box in the centre form [x,y,s,r] and returns it in the form\n",
    "    [x1,y1,x2,y2] where x1,y1 is the top left and x2,y2 is the bottom right\n",
    "  \"\"\"\n",
    "  w = np.sqrt(x[2] * x[3])\n",
    "  h = x[2] / w\n",
    "  if(score==None):\n",
    "    return np.array([x[0]-w/2.,x[1]-h/2.,x[0]+w/2.,x[1]+h/2.]).reshape((1,4))\n",
    "  else:\n",
    "    return np.array([x[0]-w/2.,x[1]-h/2.,x[0]+w/2.,x[1]+h/2.,score]).reshape((1,5))"
   ]
  },
  {
   "cell_type": "markdown",
   "metadata": {},
   "source": [
    "## Class Kalman bounding box tracker"
   ]
  },
  {
   "cell_type": "code",
   "execution_count": 8,
   "metadata": {},
   "outputs": [],
   "source": [
    "class KalmanBoxTracker(object):\n",
    "  \"\"\"\n",
    "  This class represents the internal state of individual tracked objects observed as bbox.\n",
    "  \"\"\"\n",
    "# ID duy nhất cho đối tượng\n",
    "  count = 0\n",
    "  def __init__(self,bbox):\n",
    "    \"\"\"\n",
    "    Initialises a tracker using initial bounding box.\n",
    "    \"\"\"\n",
    "    #define constant velocity model\n",
    "    # xk = [x,y,s,r,vx,vy,vs]\n",
    "    # zk = [x1, y1, x2, y2]\n",
    "    self.kf = KalmanFilter(dim_x=7, dim_z=4) \n",
    "    # Ma trận biến đổi trạng thái\n",
    "    self.kf.F = np.array([[1,0,0,0,1,0,0],[0,1,0,0,0,1,0],[0,0,1,0,0,0,1],[0,0,0,1,0,0,0],  [0,0,0,0,1,0,0],[0,0,0,0,0,1,0],[0,0,0,0,0,0,1]])\n",
    "    # Ma trận đo lường\n",
    "    self.kf.H = np.array([[1,0,0,0,0,0,0],[0,1,0,0,0,0,0],[0,0,1,0,0,0,0],[0,0,0,1,0,0,0]])\n",
    "\n",
    "    self.kf.R[2:,2:] *= 10.\n",
    "    \n",
    "    # Ma trận phương sai\n",
    "    self.kf.P[4:,4:] *= 1000. #give high uncertainty to the unobservable initial velocities\n",
    "    self.kf.P *= 10.\n",
    "    \n",
    "    # Ma trận nhiễu quá trình\n",
    "    self.kf.Q[-1,-1] *= 0.01\n",
    "    self.kf.Q[4:,4:] *= 0.01\n",
    "\n",
    "    # Khởi tạo giá trị x\n",
    "    self.kf.x[:4] = convert_bbox_to_z(bbox)\n",
    "    \n",
    "    # Số frame đã qua kể từ lần cuối update\n",
    "    self.time_since_update = 0\n",
    "    \n",
    "    # Gán ID độc nhất\n",
    "    self.id = KalmanBoxTracker.count\n",
    "    \n",
    "    # Tăng ID lên 1 cho những đối tượng tiếp\n",
    "    KalmanBoxTracker.count += 1\n",
    "    \n",
    "    # Lưu lại lịch sử các bounding box\n",
    "    self.history = []\n",
    "    \n",
    "    # Số lần update thành công\n",
    "    self.hits = 0\n",
    "    \n",
    "    # Số lần update thành công liên tiếp\n",
    "    self.hit_streak = 0\n",
    "    \n",
    "    # Số frames đã qua kể từ khi tạo\n",
    "    self.age = 0\n",
    "\n",
    "  def update(self,bbox):\n",
    "    \"\"\"\n",
    "    Updates the state vector with observed bbox.\n",
    "    \"\"\"\n",
    "    self.time_since_update = 0\n",
    "    self.history = []\n",
    "    self.hits += 1\n",
    "    self.hit_streak += 1\n",
    "    self.kf.update(convert_bbox_to_z(bbox))\n",
    "\n",
    "  def predict(self):\n",
    "    \"\"\"\n",
    "    Advances the state vector and returns the predicted bounding box estimate.\n",
    "    \"\"\"\n",
    "    # Ngăn không cho giá trị vận tốc về âm\n",
    "    if((self.kf.x[6]+self.kf.x[2])<=0):\n",
    "      self.kf.x[6] *= 0.0\n",
    "    \n",
    "    self.kf.predict()\n",
    "    self.age += 1\n",
    "    \n",
    "    # Nếu không có update nào trong 1 khoảng thời gian\n",
    "    if(self.time_since_update>0):\n",
    "      self.hit_streak = 0\n",
    "    \n",
    "    self.time_since_update += 1\n",
    "    \n",
    "    # Thêm bounding box dự đoán được vào lịch sử\n",
    "    self.history.append(convert_x_to_bbox(self.kf.x))\n",
    "    \n",
    "    # Trả về bounding box vừa dự đoán\n",
    "    return self.history[-1]\n",
    "\n",
    "  # Trả về trạng thái x\n",
    "  def get_state(self):\n",
    "    \"\"\"\n",
    "    Returns the current bounding box estimate.\n",
    "    \"\"\"\n",
    "    return convert_x_to_bbox(self.kf.x)"
   ]
  },
  {
   "cell_type": "markdown",
   "metadata": {},
   "source": [
    "## Liên kết detection với track"
   ]
  },
  {
   "cell_type": "code",
   "execution_count": 9,
   "metadata": {},
   "outputs": [],
   "source": [
    "def associate_detections_to_trackers(detections,trackers,iou_threshold = 0.3):\n",
    "  \"\"\"\n",
    "  Assigns detections to tracked object (both represented as bounding boxes)\n",
    "\n",
    "  Returns 3 lists of matches, unmatched_detections and unmatched_trackers\n",
    "  \"\"\"\n",
    "  # Nếu không có track nào: Danh sách đã liên kết rỗng, danh sách detection chưa liên kết giữ nguyên, danh sách các track rỗng\n",
    "  # Danh sách liên kết giữa track và detection bao gồm 2 phần tử tương ứng chỉ số của detection và track (i, j)\n",
    "  if(len(trackers)==0):\n",
    "    return np.empty((0,2),dtype=int), np.arange(len(detections)), np.empty((0,5),dtype=int)\n",
    "\n",
    "  # Tính giá trị IOU giữa các detection và track\n",
    "  iou_matrix = iou_batch(detections, trackers)\n",
    "\n",
    "  # Liên kết\n",
    "  # Kiểm tra ma trận có hợp lệ không\n",
    "  if min(iou_matrix.shape) > 0:\n",
    "    # Tạo ma trận nhị phân, nếu > ngưỡng = 1, ngược lại = 0\n",
    "    a = (iou_matrix > iou_threshold).astype(np.int32)\n",
    "    # mỗi i chỉ có duy nhất 1 j\n",
    "    if a.sum(1).max() == 1 and a.sum(0).max() == 1:\n",
    "        matched_indices = np.stack(np.where(a), axis=1)\n",
    "    else:\n",
    "      matched_indices = linear_assignment(-iou_matrix)\n",
    "  else:\n",
    "    matched_indices = np.empty(shape=(0,2))\n",
    "\n",
    "  # Danh sách những detection chưa được liên kết\n",
    "  unmatched_detections = []\n",
    "  for d, det in enumerate(detections):\n",
    "    if(d not in matched_indices[:,0]):\n",
    "      unmatched_detections.append(d)\n",
    "    \n",
    "  # Danh sách các track chưa liên kết\n",
    "  unmatched_trackers = []\n",
    "  for t, trk in enumerate(trackers):\n",
    "    if(t not in matched_indices[:,1]):\n",
    "      unmatched_trackers.append(t)\n",
    "\n",
    "  #filter out matched with low IOU\n",
    "  matches = []\n",
    "  for m in matched_indices:\n",
    "    if(iou_matrix[m[0], m[1]]<iou_threshold):\n",
    "      unmatched_detections.append(m[0])\n",
    "      unmatched_trackers.append(m[1])\n",
    "    else:\n",
    "      matches.append(m.reshape(1,2))\n",
    "  if(len(matches)==0):\n",
    "    matches = np.empty((0,2),dtype=int)\n",
    "  else:\n",
    "    matches = np.concatenate(matches,axis=0)\n",
    "\n",
    "  return matches, np.array(unmatched_detections), np.array(unmatched_trackers)"
   ]
  },
  {
   "cell_type": "markdown",
   "metadata": {},
   "source": [
    "### Test"
   ]
  },
  {
   "cell_type": "code",
   "execution_count": 15,
   "metadata": {},
   "outputs": [
    {
     "name": "stdout",
     "output_type": "stream",
     "text": [
      "Match track :\n",
      "[[0 0]]\n",
      "Unmatch Detection\n",
      "[1]\n",
      "Unmatch Track\n",
      "[1]\n"
     ]
    }
   ],
   "source": [
    "detection = np.array([[1,1,3,3],\n",
    "                     [5, 5, 7, 7]])\n",
    "track = np.array([[1.1,1.2,3.1,3.2],\n",
    "                 [8, 8, 9, 9]])\n",
    "matches, unmatchDetection, unmatchTrack = associate_detections_to_trackers(detection, track, iou_threshold=0.3)\n",
    "print(\"Match track :\")\n",
    "print(matches)\n",
    "print(\"Unmatch Detection\")\n",
    "print(unmatchDetection)\n",
    "print(\"Unmatch Track\")\n",
    "print(unmatchTrack)"
   ]
  },
  {
   "cell_type": "markdown",
   "metadata": {},
   "source": [
    "## Class SORT"
   ]
  },
  {
   "cell_type": "code",
   "execution_count": 10,
   "metadata": {},
   "outputs": [],
   "source": [
    "class Sort(object):\n",
    "  def __init__(self, max_age=1, min_hits=3, iou_threshold=0.3):\n",
    "    \"\"\"\n",
    "    Sets key parameters for SORT\n",
    "    \"\"\"\n",
    "    # Số frame tối đa kể từ lần cuối đối tượng được track trước khi xóa\n",
    "    self.max_age = max_age\n",
    "    # Số frame tối thiểu để một track thành \"confirmed\"\n",
    "    self.min_hits = min_hits\n",
    "    self.iou_threshold = iou_threshold\n",
    "    self.trackers = []\n",
    "    self.frame_count = 0\n",
    "\n",
    "  def update(self, dets=np.empty((0, 5))):\n",
    "    \"\"\"\n",
    "    Params:\n",
    "      dets - a numpy array of detections in the format [[x1,y1,x2,y2,score],[x1,y1,x2,y2,score],...]\n",
    "    Requires: this method must be called once for each frame even with empty detections (use np.empty((0, 5)) for frames without detections).\n",
    "    Returns the a similar array, where the last column is the object ID.\n",
    "\n",
    "    NOTE: The number of objects returned may differ from the number of detections provided.\n",
    "    \"\"\"\n",
    "    self.frame_count += 1\n",
    "    \n",
    "    # get predicted locations from existing trackers.\n",
    "    # Lưu danh sách dự đoán các track\n",
    "    trks = np.zeros((len(self.trackers), 5))\n",
    "    # Xóa track lỗi\n",
    "    to_del = []\n",
    "    ret = []\n",
    "    for t, trk in enumerate(trks):\n",
    "      # Dự đoán tracks thứ t\n",
    "      pos = self.trackers[t].predict()[0]\n",
    "      # trk có dạng [x1,y1,x2,y2, score]\n",
    "      trk[:] = [pos[0], pos[1], pos[2], pos[3], 0]\n",
    "      # Nếu có 1 giá trị của track = NaN --> xóa\n",
    "      if np.any(np.isnan(pos)):\n",
    "        to_del.append(t)\n",
    "      \n",
    "    trks = np.ma.compress_rows(np.ma.masked_invalid(trks))\n",
    "    for t in reversed(to_del):\n",
    "      self.trackers.pop(t)\n",
    "    \n",
    "    # Liên kết\n",
    "    matched, unmatched_dets, unmatched_trks = associate_detections_to_trackers(dets,trks, self.iou_threshold)\n",
    "\n",
    "    # update matched trackers with assigned detections\n",
    "    for m in matched:\n",
    "      self.trackers[m[1]].update(dets[m[0]])\n",
    "\n",
    "    # print(unmatched_dets)\n",
    "      \n",
    "    # create and initialise new trackers for unmatched detections\n",
    "    for i in unmatched_dets:\n",
    "        # print(dets[i])\n",
    "        trk = KalmanBoxTracker(dets[i])\n",
    "        self.trackers.append(trk)\n",
    "    i = len(self.trackers)\n",
    "    for trk in reversed(self.trackers):\n",
    "        d = trk.get_state()[0]\n",
    "        if (trk.time_since_update < 1) and (trk.hit_streak >= self.min_hits or self.frame_count <= self.min_hits):\n",
    "          ret.append(np.concatenate((d,[trk.id+1])).reshape(1,-1)) # +1 as MOT benchmark requires positive\n",
    "        i -= 1\n",
    "        # remove dead tracklet\n",
    "        if(trk.time_since_update > self.max_age):\n",
    "          self.trackers.pop(i)\n",
    "    if(len(ret)>0):\n",
    "      return np.concatenate(ret)\n",
    "    return np.empty((0,5))"
   ]
  },
  {
   "cell_type": "markdown",
   "metadata": {},
   "source": [
    "## DEMO "
   ]
  },
  {
   "cell_type": "code",
   "execution_count": 11,
   "metadata": {},
   "outputs": [],
   "source": [
    "def Object_Detection(frame):\n",
    "    results = model(frame)\n",
    "    \n",
    "    # Get bounding boxes, class names, and confidence scores\n",
    "    detections = results.xyxy[0].cpu().numpy()\n",
    "    \n",
    "    list_detection = []\n",
    "    \n",
    "    for detection in detections :\n",
    "        xmin, ymin, xmax, ymax, confidence, obj_id = detection[:6]\n",
    "        # Chỉ detect người\n",
    "        if obj_id != 0: continue\n",
    "        else :\n",
    "            list_detection.append([xmin, ymin, xmax, ymax, confidence])\n",
    "    \n",
    "    return list_detection"
   ]
  },
  {
   "cell_type": "code",
   "execution_count": 15,
   "metadata": {},
   "outputs": [],
   "source": [
    "def main(vid_path, output_path):\n",
    "    \n",
    "    # Open video file\n",
    "    cap = cv2.VideoCapture(vid_path)\n",
    "    \n",
    "    # Check if the video was opened correctly\n",
    "    if not cap.isOpened():\n",
    "        print(\"Error: Could not open video.\")\n",
    "        return\n",
    "    \n",
    "    # Get video properties\n",
    "    fourcc = cv2.VideoWriter_fourcc(*'MP4V') \n",
    "    fps = cap.get(cv2.CAP_PROP_FPS)\n",
    "    width  = int(cap.get(cv2.CAP_PROP_FRAME_WIDTH))\n",
    "    height = int(cap.get(cv2.CAP_PROP_FRAME_HEIGHT))\n",
    "    \n",
    "    # Create a VideoWriter object\n",
    "    out = cv2.VideoWriter(output_path, fourcc, fps, (width, height))\n",
    "    \n",
    "    tracker = Sort()\n",
    "    while True:\n",
    "        ret, frame = cap.read()\n",
    "        \n",
    "        if not(ret) : \n",
    "            break\n",
    "        \n",
    "        # Detect Object\n",
    "        detections = Object_Detection(frame)\n",
    "        \n",
    "        # print(detections)\n",
    "        \n",
    "        # Update the SORT tracker with the detected bounding boxes\n",
    "        tracked_objects = tracker.update(detections)\n",
    "        \n",
    "        # Visualize the tracked objects\n",
    "        for obj in tracked_objects:\n",
    "            x1, y1, x2, y2, obj_id = obj\n",
    "            x1, y1, x2, y2 = int(x1), int(y1), int(x2), int(y2)\n",
    "            # Draw bounding box\n",
    "            cv2.rectangle(frame, (x1, y1), (x2, y2), (255, 0, 0), 2)\n",
    "            # Draw the object ID\n",
    "            cv2.putText(frame, f\"ID: {int(obj_id)}\", (x1, y1 - 10), cv2.FONT_HERSHEY_SIMPLEX, 0.75, (255, 0, 0), 2)\n",
    "        \n",
    "         # Show the frame with tracking\n",
    "        cv2.imshow('SORT Tracking', frame)\n",
    "        \n",
    "        out.write(frame)\n",
    "        \n",
    "        # Break the loop on 'q' key press\n",
    "        if cv2.waitKey(1) & 0xFF == ord('q'):\n",
    "            break\n",
    "\n",
    "    cap.release()\n",
    "    out.release()\n",
    "    cv2.destroyAllWindows()"
   ]
  },
  {
   "cell_type": "code",
   "execution_count": 16,
   "metadata": {},
   "outputs": [],
   "source": [
    "if __name__ == \"__main__\":\n",
    "    vid_path = r'E:\\Project\\SamSungR&D\\Computer Vision\\Multiple Object Tracking\\vid\\Venice-2.mp4'\n",
    "    output_path = r'E:\\Project\\SamSungR&D\\Computer Vision\\Multiple Object Tracking\\vid\\Output-Venice-2.mp4'\n",
    "    main(vid_path, output_path)"
   ]
  },
  {
   "cell_type": "code",
   "execution_count": null,
   "metadata": {},
   "outputs": [],
   "source": []
  }
 ],
 "metadata": {
  "kernelspec": {
   "display_name": "Python 3 (ipykernel)",
   "language": "python",
   "name": "python3"
  },
  "language_info": {
   "codemirror_mode": {
    "name": "ipython",
    "version": 3
   },
   "file_extension": ".py",
   "mimetype": "text/x-python",
   "name": "python",
   "nbconvert_exporter": "python",
   "pygments_lexer": "ipython3",
   "version": "3.11.9"
  }
 },
 "nbformat": 4,
 "nbformat_minor": 4
}
